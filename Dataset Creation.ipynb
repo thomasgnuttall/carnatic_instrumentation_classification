{
 "cells": [
  {
   "cell_type": "markdown",
   "id": "cdc769a2",
   "metadata": {},
   "source": [
    "## 1. Dataset Creation"
   ]
  },
  {
   "cell_type": "code",
   "execution_count": 1,
   "id": "be66d91f",
   "metadata": {},
   "outputs": [],
   "source": [
    "%load_ext autoreload\n",
    "%autoreload 2"
   ]
  },
  {
   "cell_type": "markdown",
   "id": "ccfc91d9",
   "metadata": {},
   "source": [
    "This notebook should serve as a guide to the creation of your Carnatic Music Instrument dataset. We will start with the loading of the dataset using the mirdata API, extract the relevant sections and instruments, apply any relevant processing steps, and store the dataset in an intuitive and accessible format.\n",
    "\n",
    "Typical Carnatic Music ensembles contain a wide-range of instruments. For this task we are going to focus on:\n",
    "\n",
    "- Voice\n",
    "- Violin\n",
    "- Mridangam\n",
    "\n",
    "You can refer to the instrumentation section of the [compIAM tutorial](https://mtg.github.io/IAM-tutorial-ismir22/indian_art_music/carnatic-music.html) for more information.\n",
    "\n",
    "The final dataset will be a collection of short audios corresponding to each of these instruments. They will be organised such that each can be retrieved according to the instrument they contain, the performer, the raga and a unique identifier (for reproducibility later).\n",
    "\n",
    "It is up to you to fill in each subsection with the relevant code to perform that task. If possible, try and split the sections amongst the project group to work in parallel. When the task is complete, you should try and abstract the code into .py files so that it can be ran without a python notebook."
   ]
  },
  {
   "cell_type": "markdown",
   "id": "a0ee5df1",
   "metadata": {},
   "source": [
    "### Explore Dataset"
   ]
  },
  {
   "cell_type": "markdown",
   "id": "b2399dd0",
   "metadata": {},
   "source": [
    "You can access the Saraga Carnatic dataset using the [mirdata API](https://github.com/mir-dataset-loaders/mirdata). You should already have the dataset downloaded on your machine in the mirdata repository."
   ]
  },
  {
   "cell_type": "code",
   "execution_count": 2,
   "id": "6020868f",
   "metadata": {},
   "outputs": [],
   "source": [
    "import mirdata"
   ]
  },
  {
   "cell_type": "code",
   "execution_count": 38,
   "id": "3811c98b",
   "metadata": {},
   "outputs": [],
   "source": [
    "data_home = '/Volumes/MyPassport/mir_datasets2/saraga1.5_carnatic/'"
   ]
  },
  {
   "cell_type": "code",
   "execution_count": 40,
   "id": "a539b7ec",
   "metadata": {},
   "outputs": [],
   "source": [
    "saraga = mirdata.initialize('saraga_carnatic', data_home=data_home)"
   ]
  },
  {
   "cell_type": "markdown",
   "id": "6099dc97",
   "metadata": {},
   "source": [
    "You can choose a random track using `.choice_track()`. This returns a Track object."
   ]
  },
  {
   "cell_type": "code",
   "execution_count": 204,
   "id": "5663de54",
   "metadata": {},
   "outputs": [],
   "source": [
    "example_track = saraga.choice_track()"
   ]
  },
  {
   "cell_type": "markdown",
   "id": "instrumental-czech",
   "metadata": {},
   "source": [
    "You can load all tracks and information to a dict using `.load_tracks()`"
   ]
  },
  {
   "cell_type": "code",
   "execution_count": 218,
   "id": "falling-newsletter",
   "metadata": {},
   "outputs": [
    {
     "ename": "JSONDecodeError",
     "evalue": "Expecting value: line 1 column 1 (char 0)",
     "output_type": "error",
     "traceback": [
      "\u001b[0;31m---------------------------------------------------------------------------\u001b[0m",
      "\u001b[0;31mJSONDecodeError\u001b[0m                           Traceback (most recent call last)",
      "\u001b[0;32m<ipython-input-218-741b7da1d5c6>\u001b[0m in \u001b[0;36m<module>\u001b[0;34m\u001b[0m\n\u001b[0;32m----> 1\u001b[0;31m \u001b[0mall_tracks\u001b[0m \u001b[0;34m=\u001b[0m \u001b[0msaraga\u001b[0m\u001b[0;34m.\u001b[0m\u001b[0mload_tracks\u001b[0m\u001b[0;34m(\u001b[0m\u001b[0;34m)\u001b[0m\u001b[0;34m\u001b[0m\u001b[0;34m\u001b[0m\u001b[0m\n\u001b[0m",
      "\u001b[0;32m~/.virtualenvs/carnatic/lib/python3.7/site-packages/mirdata/core.py\u001b[0m in \u001b[0;36mload_tracks\u001b[0;34m(self)\u001b[0m\n\u001b[1;32m    187\u001b[0m \u001b[0;34m\u001b[0m\u001b[0m\n\u001b[1;32m    188\u001b[0m         \"\"\"\n\u001b[0;32m--> 189\u001b[0;31m         \u001b[0;32mreturn\u001b[0m \u001b[0;34m{\u001b[0m\u001b[0mtrack_id\u001b[0m\u001b[0;34m:\u001b[0m \u001b[0mself\u001b[0m\u001b[0;34m.\u001b[0m\u001b[0mtrack\u001b[0m\u001b[0;34m(\u001b[0m\u001b[0mtrack_id\u001b[0m\u001b[0;34m)\u001b[0m \u001b[0;32mfor\u001b[0m \u001b[0mtrack_id\u001b[0m \u001b[0;32min\u001b[0m \u001b[0mself\u001b[0m\u001b[0;34m.\u001b[0m\u001b[0mtrack_ids\u001b[0m\u001b[0;34m}\u001b[0m\u001b[0;34m\u001b[0m\u001b[0;34m\u001b[0m\u001b[0m\n\u001b[0m\u001b[1;32m    190\u001b[0m \u001b[0;34m\u001b[0m\u001b[0m\n\u001b[1;32m    191\u001b[0m     \u001b[0;32mdef\u001b[0m \u001b[0mchoice_track\u001b[0m\u001b[0;34m(\u001b[0m\u001b[0mself\u001b[0m\u001b[0;34m)\u001b[0m\u001b[0;34m:\u001b[0m\u001b[0;34m\u001b[0m\u001b[0;34m\u001b[0m\u001b[0m\n",
      "\u001b[0;32m~/.virtualenvs/carnatic/lib/python3.7/site-packages/mirdata/core.py\u001b[0m in \u001b[0;36m<dictcomp>\u001b[0;34m(.0)\u001b[0m\n\u001b[1;32m    187\u001b[0m \u001b[0;34m\u001b[0m\u001b[0m\n\u001b[1;32m    188\u001b[0m         \"\"\"\n\u001b[0;32m--> 189\u001b[0;31m         \u001b[0;32mreturn\u001b[0m \u001b[0;34m{\u001b[0m\u001b[0mtrack_id\u001b[0m\u001b[0;34m:\u001b[0m \u001b[0mself\u001b[0m\u001b[0;34m.\u001b[0m\u001b[0mtrack\u001b[0m\u001b[0;34m(\u001b[0m\u001b[0mtrack_id\u001b[0m\u001b[0;34m)\u001b[0m \u001b[0;32mfor\u001b[0m \u001b[0mtrack_id\u001b[0m \u001b[0;32min\u001b[0m \u001b[0mself\u001b[0m\u001b[0;34m.\u001b[0m\u001b[0mtrack_ids\u001b[0m\u001b[0;34m}\u001b[0m\u001b[0;34m\u001b[0m\u001b[0;34m\u001b[0m\u001b[0m\n\u001b[0m\u001b[1;32m    190\u001b[0m \u001b[0;34m\u001b[0m\u001b[0m\n\u001b[1;32m    191\u001b[0m     \u001b[0;32mdef\u001b[0m \u001b[0mchoice_track\u001b[0m\u001b[0;34m(\u001b[0m\u001b[0mself\u001b[0m\u001b[0;34m)\u001b[0m\u001b[0;34m:\u001b[0m\u001b[0;34m\u001b[0m\u001b[0;34m\u001b[0m\u001b[0m\n",
      "\u001b[0;32m~/.virtualenvs/carnatic/lib/python3.7/site-packages/mirdata/core.py\u001b[0m in \u001b[0;36m<lambda>\u001b[0;34m(track_id)\u001b[0m\n\u001b[1;32m    131\u001b[0m \u001b[0;34m\u001b[0m\u001b[0m\n\u001b[1;32m    132\u001b[0m         \u001b[0;31m# this is a hack to be able to have dataset-specific docstrings\u001b[0m\u001b[0;34m\u001b[0m\u001b[0;34m\u001b[0m\u001b[0;34m\u001b[0m\u001b[0m\n\u001b[0;32m--> 133\u001b[0;31m         \u001b[0mself\u001b[0m\u001b[0;34m.\u001b[0m\u001b[0mtrack\u001b[0m \u001b[0;34m=\u001b[0m \u001b[0;32mlambda\u001b[0m \u001b[0mtrack_id\u001b[0m\u001b[0;34m:\u001b[0m \u001b[0mself\u001b[0m\u001b[0;34m.\u001b[0m\u001b[0m_track\u001b[0m\u001b[0;34m(\u001b[0m\u001b[0mtrack_id\u001b[0m\u001b[0;34m)\u001b[0m\u001b[0;34m\u001b[0m\u001b[0;34m\u001b[0m\u001b[0m\n\u001b[0m\u001b[1;32m    134\u001b[0m         \u001b[0mself\u001b[0m\u001b[0;34m.\u001b[0m\u001b[0mtrack\u001b[0m\u001b[0;34m.\u001b[0m\u001b[0m__doc__\u001b[0m \u001b[0;34m=\u001b[0m \u001b[0mself\u001b[0m\u001b[0;34m.\u001b[0m\u001b[0m_track_object\u001b[0m\u001b[0;34m.\u001b[0m\u001b[0m__doc__\u001b[0m  \u001b[0;31m# set the docstring\u001b[0m\u001b[0;34m\u001b[0m\u001b[0;34m\u001b[0m\u001b[0m\n\u001b[1;32m    135\u001b[0m \u001b[0;34m\u001b[0m\u001b[0m\n",
      "\u001b[0;32m~/.virtualenvs/carnatic/lib/python3.7/site-packages/mirdata/core.py\u001b[0m in \u001b[0;36m_track\u001b[0;34m(self, track_id)\u001b[0m\n\u001b[1;32m    174\u001b[0m             \u001b[0;32mraise\u001b[0m \u001b[0mNotImplementedError\u001b[0m\u001b[0;34m\u001b[0m\u001b[0;34m\u001b[0m\u001b[0m\n\u001b[1;32m    175\u001b[0m         \u001b[0;32melse\u001b[0m\u001b[0;34m:\u001b[0m\u001b[0;34m\u001b[0m\u001b[0;34m\u001b[0m\u001b[0m\n\u001b[0;32m--> 176\u001b[0;31m             \u001b[0;32mreturn\u001b[0m \u001b[0mself\u001b[0m\u001b[0;34m.\u001b[0m\u001b[0m_track_object\u001b[0m\u001b[0;34m(\u001b[0m\u001b[0mtrack_id\u001b[0m\u001b[0;34m,\u001b[0m \u001b[0mself\u001b[0m\u001b[0;34m.\u001b[0m\u001b[0mdata_home\u001b[0m\u001b[0;34m)\u001b[0m\u001b[0;34m\u001b[0m\u001b[0;34m\u001b[0m\u001b[0m\n\u001b[0m\u001b[1;32m    177\u001b[0m \u001b[0;34m\u001b[0m\u001b[0m\n\u001b[1;32m    178\u001b[0m     \u001b[0;32mdef\u001b[0m \u001b[0mload_tracks\u001b[0m\u001b[0;34m(\u001b[0m\u001b[0mself\u001b[0m\u001b[0;34m)\u001b[0m\u001b[0;34m:\u001b[0m\u001b[0;34m\u001b[0m\u001b[0;34m\u001b[0m\u001b[0m\n",
      "\u001b[0;32m~/.virtualenvs/carnatic/lib/python3.7/site-packages/mirdata/datasets/saraga_carnatic.py\u001b[0m in \u001b[0;36m__init__\u001b[0;34m(self, track_id, data_home)\u001b[0m\n\u001b[1;32m    189\u001b[0m \u001b[0;34m\u001b[0m\u001b[0m\n\u001b[1;32m    190\u001b[0m         \u001b[0;31m# Track attributes\u001b[0m\u001b[0;34m\u001b[0m\u001b[0;34m\u001b[0m\u001b[0;34m\u001b[0m\u001b[0m\n\u001b[0;32m--> 191\u001b[0;31m         \u001b[0mmetadata\u001b[0m \u001b[0;34m=\u001b[0m \u001b[0mDATA\u001b[0m\u001b[0;34m.\u001b[0m\u001b[0mmetadata\u001b[0m\u001b[0;34m(\u001b[0m\u001b[0mself\u001b[0m\u001b[0;34m.\u001b[0m\u001b[0mmetadata_path\u001b[0m\u001b[0;34m)\u001b[0m\u001b[0;34m\u001b[0m\u001b[0;34m\u001b[0m\u001b[0m\n\u001b[0m\u001b[1;32m    192\u001b[0m         if (\n\u001b[1;32m    193\u001b[0m             \u001b[0mmetadata\u001b[0m \u001b[0;32mis\u001b[0m \u001b[0;32mnot\u001b[0m \u001b[0;32mNone\u001b[0m\u001b[0;34m\u001b[0m\u001b[0;34m\u001b[0m\u001b[0m\n",
      "\u001b[0;32m~/.virtualenvs/carnatic/lib/python3.7/site-packages/mirdata/core.py\u001b[0m in \u001b[0;36mmetadata\u001b[0;34m(self, data_home)\u001b[0m\n\u001b[1;32m    500\u001b[0m \u001b[0;34m\u001b[0m\u001b[0m\n\u001b[1;32m    501\u001b[0m         \u001b[0;32mif\u001b[0m \u001b[0mself\u001b[0m\u001b[0;34m.\u001b[0m\u001b[0m_metadata\u001b[0m \u001b[0;32mis\u001b[0m \u001b[0;32mNone\u001b[0m \u001b[0;32mor\u001b[0m \u001b[0mself\u001b[0m\u001b[0;34m.\u001b[0m\u001b[0m_metadata\u001b[0m\u001b[0;34m[\u001b[0m\u001b[0;34m\"data_home\"\u001b[0m\u001b[0;34m]\u001b[0m \u001b[0;34m!=\u001b[0m \u001b[0mdata_home\u001b[0m\u001b[0;34m:\u001b[0m\u001b[0;34m\u001b[0m\u001b[0;34m\u001b[0m\u001b[0m\n\u001b[0;32m--> 502\u001b[0;31m             \u001b[0mself\u001b[0m\u001b[0;34m.\u001b[0m\u001b[0m_metadata\u001b[0m \u001b[0;34m=\u001b[0m \u001b[0mself\u001b[0m\u001b[0;34m.\u001b[0m\u001b[0mmetadata_load_fn\u001b[0m\u001b[0;34m(\u001b[0m\u001b[0mdata_home\u001b[0m\u001b[0;34m)\u001b[0m\u001b[0;34m\u001b[0m\u001b[0;34m\u001b[0m\u001b[0m\n\u001b[0m\u001b[1;32m    503\u001b[0m         \u001b[0;32mreturn\u001b[0m \u001b[0mself\u001b[0m\u001b[0;34m.\u001b[0m\u001b[0m_metadata\u001b[0m\u001b[0;34m\u001b[0m\u001b[0;34m\u001b[0m\u001b[0m\n",
      "\u001b[0;32m~/.virtualenvs/carnatic/lib/python3.7/site-packages/mirdata/datasets/saraga_carnatic.py\u001b[0m in \u001b[0;36m_load_metadata\u001b[0;34m(metadata_path)\u001b[0m\n\u001b[1;32m     80\u001b[0m \u001b[0;34m\u001b[0m\u001b[0m\n\u001b[1;32m     81\u001b[0m     \u001b[0;32mwith\u001b[0m \u001b[0mopen\u001b[0m\u001b[0;34m(\u001b[0m\u001b[0mmetadata_path\u001b[0m\u001b[0;34m)\u001b[0m \u001b[0;32mas\u001b[0m \u001b[0mf\u001b[0m\u001b[0;34m:\u001b[0m\u001b[0;34m\u001b[0m\u001b[0;34m\u001b[0m\u001b[0m\n\u001b[0;32m---> 82\u001b[0;31m         \u001b[0mmetadata\u001b[0m \u001b[0;34m=\u001b[0m \u001b[0mjson\u001b[0m\u001b[0;34m.\u001b[0m\u001b[0mload\u001b[0m\u001b[0;34m(\u001b[0m\u001b[0mf\u001b[0m\u001b[0;34m)\u001b[0m\u001b[0;34m\u001b[0m\u001b[0;34m\u001b[0m\u001b[0m\n\u001b[0m\u001b[1;32m     83\u001b[0m         \u001b[0mdata_home\u001b[0m \u001b[0;34m=\u001b[0m \u001b[0mmetadata_path\u001b[0m\u001b[0;34m.\u001b[0m\u001b[0msplit\u001b[0m\u001b[0;34m(\u001b[0m\u001b[0;34m\"/\"\u001b[0m \u001b[0;34m+\u001b[0m \u001b[0mmetadata_path\u001b[0m\u001b[0;34m.\u001b[0m\u001b[0msplit\u001b[0m\u001b[0;34m(\u001b[0m\u001b[0;34m\"/\"\u001b[0m\u001b[0;34m)\u001b[0m\u001b[0;34m[\u001b[0m\u001b[0;34m-\u001b[0m\u001b[0;36m4\u001b[0m\u001b[0;34m]\u001b[0m\u001b[0;34m)\u001b[0m\u001b[0;34m[\u001b[0m\u001b[0;36m0\u001b[0m\u001b[0;34m]\u001b[0m\u001b[0;34m\u001b[0m\u001b[0;34m\u001b[0m\u001b[0m\n\u001b[1;32m     84\u001b[0m         \u001b[0mmetadata\u001b[0m\u001b[0;34m[\u001b[0m\u001b[0;34m\"data_home\"\u001b[0m\u001b[0;34m]\u001b[0m \u001b[0;34m=\u001b[0m \u001b[0mdata_home\u001b[0m\u001b[0;34m\u001b[0m\u001b[0;34m\u001b[0m\u001b[0m\n",
      "\u001b[0;32m/usr/local/opt/python@3.7/Frameworks/Python.framework/Versions/3.7/lib/python3.7/json/__init__.py\u001b[0m in \u001b[0;36mload\u001b[0;34m(fp, cls, object_hook, parse_float, parse_int, parse_constant, object_pairs_hook, **kw)\u001b[0m\n\u001b[1;32m    294\u001b[0m         \u001b[0mcls\u001b[0m\u001b[0;34m=\u001b[0m\u001b[0mcls\u001b[0m\u001b[0;34m,\u001b[0m \u001b[0mobject_hook\u001b[0m\u001b[0;34m=\u001b[0m\u001b[0mobject_hook\u001b[0m\u001b[0;34m,\u001b[0m\u001b[0;34m\u001b[0m\u001b[0;34m\u001b[0m\u001b[0m\n\u001b[1;32m    295\u001b[0m         \u001b[0mparse_float\u001b[0m\u001b[0;34m=\u001b[0m\u001b[0mparse_float\u001b[0m\u001b[0;34m,\u001b[0m \u001b[0mparse_int\u001b[0m\u001b[0;34m=\u001b[0m\u001b[0mparse_int\u001b[0m\u001b[0;34m,\u001b[0m\u001b[0;34m\u001b[0m\u001b[0;34m\u001b[0m\u001b[0m\n\u001b[0;32m--> 296\u001b[0;31m         parse_constant=parse_constant, object_pairs_hook=object_pairs_hook, **kw)\n\u001b[0m\u001b[1;32m    297\u001b[0m \u001b[0;34m\u001b[0m\u001b[0m\n\u001b[1;32m    298\u001b[0m \u001b[0;34m\u001b[0m\u001b[0m\n",
      "\u001b[0;32m/usr/local/opt/python@3.7/Frameworks/Python.framework/Versions/3.7/lib/python3.7/json/__init__.py\u001b[0m in \u001b[0;36mloads\u001b[0;34m(s, encoding, cls, object_hook, parse_float, parse_int, parse_constant, object_pairs_hook, **kw)\u001b[0m\n\u001b[1;32m    346\u001b[0m             \u001b[0mparse_int\u001b[0m \u001b[0;32mis\u001b[0m \u001b[0;32mNone\u001b[0m \u001b[0;32mand\u001b[0m \u001b[0mparse_float\u001b[0m \u001b[0;32mis\u001b[0m \u001b[0;32mNone\u001b[0m \u001b[0;32mand\u001b[0m\u001b[0;34m\u001b[0m\u001b[0;34m\u001b[0m\u001b[0m\n\u001b[1;32m    347\u001b[0m             parse_constant is None and object_pairs_hook is None and not kw):\n\u001b[0;32m--> 348\u001b[0;31m         \u001b[0;32mreturn\u001b[0m \u001b[0m_default_decoder\u001b[0m\u001b[0;34m.\u001b[0m\u001b[0mdecode\u001b[0m\u001b[0;34m(\u001b[0m\u001b[0ms\u001b[0m\u001b[0;34m)\u001b[0m\u001b[0;34m\u001b[0m\u001b[0;34m\u001b[0m\u001b[0m\n\u001b[0m\u001b[1;32m    349\u001b[0m     \u001b[0;32mif\u001b[0m \u001b[0mcls\u001b[0m \u001b[0;32mis\u001b[0m \u001b[0;32mNone\u001b[0m\u001b[0;34m:\u001b[0m\u001b[0;34m\u001b[0m\u001b[0;34m\u001b[0m\u001b[0m\n\u001b[1;32m    350\u001b[0m         \u001b[0mcls\u001b[0m \u001b[0;34m=\u001b[0m \u001b[0mJSONDecoder\u001b[0m\u001b[0;34m\u001b[0m\u001b[0;34m\u001b[0m\u001b[0m\n",
      "\u001b[0;32m/usr/local/opt/python@3.7/Frameworks/Python.framework/Versions/3.7/lib/python3.7/json/decoder.py\u001b[0m in \u001b[0;36mdecode\u001b[0;34m(self, s, _w)\u001b[0m\n\u001b[1;32m    335\u001b[0m \u001b[0;34m\u001b[0m\u001b[0m\n\u001b[1;32m    336\u001b[0m         \"\"\"\n\u001b[0;32m--> 337\u001b[0;31m         \u001b[0mobj\u001b[0m\u001b[0;34m,\u001b[0m \u001b[0mend\u001b[0m \u001b[0;34m=\u001b[0m \u001b[0mself\u001b[0m\u001b[0;34m.\u001b[0m\u001b[0mraw_decode\u001b[0m\u001b[0;34m(\u001b[0m\u001b[0ms\u001b[0m\u001b[0;34m,\u001b[0m \u001b[0midx\u001b[0m\u001b[0;34m=\u001b[0m\u001b[0m_w\u001b[0m\u001b[0;34m(\u001b[0m\u001b[0ms\u001b[0m\u001b[0;34m,\u001b[0m \u001b[0;36m0\u001b[0m\u001b[0;34m)\u001b[0m\u001b[0;34m.\u001b[0m\u001b[0mend\u001b[0m\u001b[0;34m(\u001b[0m\u001b[0;34m)\u001b[0m\u001b[0;34m)\u001b[0m\u001b[0;34m\u001b[0m\u001b[0;34m\u001b[0m\u001b[0m\n\u001b[0m\u001b[1;32m    338\u001b[0m         \u001b[0mend\u001b[0m \u001b[0;34m=\u001b[0m \u001b[0m_w\u001b[0m\u001b[0;34m(\u001b[0m\u001b[0ms\u001b[0m\u001b[0;34m,\u001b[0m \u001b[0mend\u001b[0m\u001b[0;34m)\u001b[0m\u001b[0;34m.\u001b[0m\u001b[0mend\u001b[0m\u001b[0;34m(\u001b[0m\u001b[0;34m)\u001b[0m\u001b[0;34m\u001b[0m\u001b[0;34m\u001b[0m\u001b[0m\n\u001b[1;32m    339\u001b[0m         \u001b[0;32mif\u001b[0m \u001b[0mend\u001b[0m \u001b[0;34m!=\u001b[0m \u001b[0mlen\u001b[0m\u001b[0;34m(\u001b[0m\u001b[0ms\u001b[0m\u001b[0;34m)\u001b[0m\u001b[0;34m:\u001b[0m\u001b[0;34m\u001b[0m\u001b[0;34m\u001b[0m\u001b[0m\n",
      "\u001b[0;32m/usr/local/opt/python@3.7/Frameworks/Python.framework/Versions/3.7/lib/python3.7/json/decoder.py\u001b[0m in \u001b[0;36mraw_decode\u001b[0;34m(self, s, idx)\u001b[0m\n\u001b[1;32m    353\u001b[0m             \u001b[0mobj\u001b[0m\u001b[0;34m,\u001b[0m \u001b[0mend\u001b[0m \u001b[0;34m=\u001b[0m \u001b[0mself\u001b[0m\u001b[0;34m.\u001b[0m\u001b[0mscan_once\u001b[0m\u001b[0;34m(\u001b[0m\u001b[0ms\u001b[0m\u001b[0;34m,\u001b[0m \u001b[0midx\u001b[0m\u001b[0;34m)\u001b[0m\u001b[0;34m\u001b[0m\u001b[0;34m\u001b[0m\u001b[0m\n\u001b[1;32m    354\u001b[0m         \u001b[0;32mexcept\u001b[0m \u001b[0mStopIteration\u001b[0m \u001b[0;32mas\u001b[0m \u001b[0merr\u001b[0m\u001b[0;34m:\u001b[0m\u001b[0;34m\u001b[0m\u001b[0;34m\u001b[0m\u001b[0m\n\u001b[0;32m--> 355\u001b[0;31m             \u001b[0;32mraise\u001b[0m \u001b[0mJSONDecodeError\u001b[0m\u001b[0;34m(\u001b[0m\u001b[0;34m\"Expecting value\"\u001b[0m\u001b[0;34m,\u001b[0m \u001b[0ms\u001b[0m\u001b[0;34m,\u001b[0m \u001b[0merr\u001b[0m\u001b[0;34m.\u001b[0m\u001b[0mvalue\u001b[0m\u001b[0;34m)\u001b[0m \u001b[0;32mfrom\u001b[0m \u001b[0;32mNone\u001b[0m\u001b[0;34m\u001b[0m\u001b[0;34m\u001b[0m\u001b[0m\n\u001b[0m\u001b[1;32m    356\u001b[0m         \u001b[0;32mreturn\u001b[0m \u001b[0mobj\u001b[0m\u001b[0;34m,\u001b[0m \u001b[0mend\u001b[0m\u001b[0;34m\u001b[0m\u001b[0;34m\u001b[0m\u001b[0m\n",
      "\u001b[0;31mJSONDecodeError\u001b[0m: Expecting value: line 1 column 1 (char 0)"
     ]
    }
   ],
   "source": [
    "all_tracks = saraga.load_tracks()"
   ]
  },
  {
   "cell_type": "markdown",
   "id": "headed-front",
   "metadata": {},
   "source": [
    "This returns a dict of `unique track identifier` : `track` object for each track."
   ]
  },
  {
   "cell_type": "markdown",
   "id": "continuing-sphere",
   "metadata": {},
   "source": [
    "Track objects contain all filepaths of audios and metadata associated with the chosen track, and some information related to the recording itself (such as artist names and instruments). Remember, that for many recordings, we have 4 audio files relevant to our task...\n",
    "\n",
    "\n",
    "The path of the final mixed performance:"
   ]
  },
  {
   "cell_type": "code",
   "execution_count": 206,
   "id": "aerial-works",
   "metadata": {},
   "outputs": [
    {
     "data": {
      "text/plain": [
       "'/Volumes/MyPassport/mir_datasets2/saraga1.5_carnatic/saraga1.5_carnatic/Sumithra Vasudev at Arkay by Sumithra Vasudev/Mati Matiki/Mati Matiki.mp3.mp3'"
      ]
     },
     "execution_count": 206,
     "metadata": {},
     "output_type": "execute_result"
    }
   ],
   "source": [
    "example_track.audio_path"
   ]
  },
  {
   "cell_type": "markdown",
   "id": "characteristic-balance",
   "metadata": {},
   "source": [
    "The path of the vocal microphone:"
   ]
  },
  {
   "cell_type": "code",
   "execution_count": 205,
   "id": "chief-discipline",
   "metadata": {},
   "outputs": [
    {
     "data": {
      "text/plain": [
       "'/Volumes/MyPassport/mir_datasets2/saraga1.5_carnatic/saraga1.5_carnatic/Sumithra Vasudev at Arkay by Sumithra Vasudev/Mati Matiki/Mati Matiki.multitrack-vocal.mp3'"
      ]
     },
     "execution_count": 205,
     "metadata": {},
     "output_type": "execute_result"
    }
   ],
   "source": [
    "example_track.audio_vocal_path"
   ]
  },
  {
   "cell_type": "markdown",
   "id": "round-playlist",
   "metadata": {},
   "source": [
    "The path of the violin microphone:"
   ]
  },
  {
   "cell_type": "code",
   "execution_count": 208,
   "id": "posted-highway",
   "metadata": {},
   "outputs": [
    {
     "data": {
      "text/plain": [
       "'/Volumes/MyPassport/mir_datasets2/saraga1.5_carnatic/saraga1.5_carnatic/Sumithra Vasudev at Arkay by Sumithra Vasudev/Mati Matiki/Mati Matiki.multitrack-violin.mp3'"
      ]
     },
     "execution_count": 208,
     "metadata": {},
     "output_type": "execute_result"
    }
   ],
   "source": [
    "example_track.audio_violin_path"
   ]
  },
  {
   "cell_type": "markdown",
   "id": "aerial-nomination",
   "metadata": {},
   "source": [
    "And two mridangam microphones (one for each head):"
   ]
  },
  {
   "cell_type": "code",
   "execution_count": 209,
   "id": "smaller-regression",
   "metadata": {},
   "outputs": [
    {
     "data": {
      "text/plain": [
       "'/Volumes/MyPassport/mir_datasets2/saraga1.5_carnatic/saraga1.5_carnatic/Sumithra Vasudev at Arkay by Sumithra Vasudev/Mati Matiki/Mati Matiki.multitrack-mridangam-left.mp3'"
      ]
     },
     "execution_count": 209,
     "metadata": {},
     "output_type": "execute_result"
    }
   ],
   "source": [
    "example_track.audio_mridangam_left_path"
   ]
  },
  {
   "cell_type": "code",
   "execution_count": 210,
   "id": "lasting-dynamics",
   "metadata": {},
   "outputs": [
    {
     "data": {
      "text/plain": [
       "'/Volumes/MyPassport/mir_datasets2/saraga1.5_carnatic/saraga1.5_carnatic/Sumithra Vasudev at Arkay by Sumithra Vasudev/Mati Matiki/Mati Matiki.multitrack-mridangam-right.mp3'"
      ]
     },
     "execution_count": 210,
     "metadata": {},
     "output_type": "execute_result"
    }
   ],
   "source": [
    "example_track.audio_mridangam_right_path"
   ]
  },
  {
   "cell_type": "markdown",
   "id": "hidden-milwaukee",
   "metadata": {},
   "source": [
    "Navigate to these files and listen to the audios. What do you notice about them? Are they the same intensity? Is there any undesirable artifacts such as leaking or noise?\n",
    "\n",
    "Take note, the `mirdata` `Track` object will not have a `audio_vocal_path` (or vocal or mridangam) attribute if for the given track there is no multi-microphone recordings. Can you use this information to determine how many tracks we have multi-microphone recordings for? (HINT: You can check if an object has a specific attribute using the hasattr function: `hasattr(obj, \"<attribute_to_check_for>\")`."
   ]
  },
  {
   "cell_type": "code",
   "execution_count": 223,
   "id": "sapphire-daughter",
   "metadata": {},
   "outputs": [],
   "source": [
    "# How many tracks with multitrack recordings?"
   ]
  },
  {
   "cell_type": "markdown",
   "id": "leading-shelf",
   "metadata": {},
   "source": [
    "Another important path is the metadata_path:"
   ]
  },
  {
   "cell_type": "code",
   "execution_count": 212,
   "id": "seventh-green",
   "metadata": {},
   "outputs": [],
   "source": [
    "metadata_path = example_track.metadata_path"
   ]
  },
  {
   "cell_type": "markdown",
   "id": "improved-spirituality",
   "metadata": {},
   "source": [
    "Here you will find information relating to the recording such as artist names, instruments, raaga."
   ]
  },
  {
   "cell_type": "markdown",
   "id": "major-university",
   "metadata": {},
   "source": [
    "Can you create some functions to explore these tracks and metadata? Perhaps it would be useful to know that JSON can be loaded in python using the `json` library:"
   ]
  },
  {
   "cell_type": "code",
   "execution_count": null,
   "id": "political-style",
   "metadata": {},
   "outputs": [],
   "source": [
    "import json\n",
    "\n",
    "with open(json_path, 'r') as f:\n",
    "    loaded_json = json.loads(f.read())"
   ]
  },
  {
   "cell_type": "code",
   "execution_count": null,
   "id": "unique-lobby",
   "metadata": {},
   "outputs": [],
   "source": [
    "def get_metadata(track_id):\n",
    "    \"\"\"\n",
    "    For <track_id>, return a dataframe of associated metadata\n",
    "    \"\"\"\n",
    "    # code here\n",
    "    return metadata\n",
    "\n",
    "def get_performer(track_id):\n",
    "    \"\"\"\n",
    "    For <track_id>, return the performer\n",
    "    \"\"\"\n",
    "    # code here\n",
    "    return performer\n",
    "\n",
    "def get_performance(track_id):\n",
    "    \"\"\"\n",
    "    For <track_id>, return the performance name\n",
    "    \"\"\"\n",
    "    # code here\n",
    "    return performance\n",
    "\n",
    "def get_raga(track_id):\n",
    "    \"\"\"\n",
    "    For <track_id>, return the raga name\n",
    "    \"\"\"\n",
    "    # code here\n",
    "    return raga\n",
    "\n",
    "\n",
    "def get_tonic(track_id):\n",
    "    \"\"\"\n",
    "    For <track_id>, return the tonic in hertz\n",
    "    \"\"\"\n",
    "    # code here\n",
    "    return tonic"
   ]
  },
  {
   "cell_type": "markdown",
   "id": "pursuant-battlefield",
   "metadata": {},
   "source": [
    "How many ragas/performers/performances are available? How does that breakdown across performances for which we have multi-track recordings and those we dont?"
   ]
  },
  {
   "cell_type": "code",
   "execution_count": null,
   "id": "simplified-forty",
   "metadata": {},
   "outputs": [],
   "source": [
    "# get dataset statistics"
   ]
  },
  {
   "cell_type": "markdown",
   "id": "e9756db3",
   "metadata": {},
   "source": [
    "### Load Audio"
   ]
  },
  {
   "cell_type": "markdown",
   "id": "favorite-auction",
   "metadata": {},
   "source": [
    "The mirdata API returns paths to audio files associated with each track. Can you create some loaders to load an audio based on a given track name? \n",
    "\n",
    "**Hint**: The `librosa` library contains functions to load audio from file to an array of amplitude values. `y, sr = librosa.load(audio_path, sr=44100)`. `sr` in this instance refers to the sampling rate of the audio, i.e. how many individual amplitude energy values there are per second (typically 44100Hz). It is important to remember this resolution when converting between number of elements in the returned array and time in the track."
   ]
  },
  {
   "cell_type": "code",
   "execution_count": null,
   "id": "legendary-imaging",
   "metadata": {},
   "outputs": [],
   "source": [
    "def load_mixed_audio(track_id):\n",
    "    \"\"\"\n",
    "    For <track_id>, return the loaded audio\n",
    "    \"\"\"\n",
    "    # code here\n",
    "    return audio_array\n",
    "\n",
    "def load_violin_audio(track_id):\n",
    "    \"\"\"\n",
    "    For <track_id>, return the isolated violin track\n",
    "    \"\"\"\n",
    "    # code here\n",
    "    return audio_array\n",
    "\n",
    "def load_voice_audio(track_id):\n",
    "    \"\"\"\n",
    "    For <track_id>, return the isolated voice track\n",
    "    \"\"\"\n",
    "    # code here\n",
    "    return audio_array\n",
    "\n",
    "def load_mridangam_audio(track_id):\n",
    "    \"\"\"\n",
    "    For <track_id>, return the isolated mridangam track\n",
    "    \"\"\"\n",
    "    # code here\n",
    "    return audio_array"
   ]
  },
  {
   "cell_type": "markdown",
   "id": "genetic-hours",
   "metadata": {},
   "source": [
    "### Listen to Audio"
   ]
  },
  {
   "cell_type": "markdown",
   "id": "complex-beverage",
   "metadata": {},
   "source": [
    "Let's write some functions to listen and visualise these audio arrays in the notebook. \n",
    "\n",
    "**Hint**: You should find that the `Ipythoon.display.Audio` useful for playing audio inline in a Jupyter notebook.\n",
    "\n",
    "**Hint2**: Using the `matplotlib` library you can plot on two dimensions as so:\n",
    "\n",
    "```\n",
    "import matplotlib.pyplot as plt\n",
    "\n",
    "plt.plot(x, y)\n",
    "```\n",
    "More information on enhancing these plots (e.g. with titles, axis labels and gridlines) can be found [here](https://matplotlib.org/stable/gallery/lines_bars_and_markers/simple_plot.html)."
   ]
  },
  {
   "cell_type": "code",
   "execution_count": null,
   "id": "chinese-virtue",
   "metadata": {},
   "outputs": [],
   "source": [
    "def plot_waveform(audio_array):\n",
    "    \"\"\"\n",
    "    Plot waveform for <audio_array> using matplotlib.pyplot\n",
    "    \"\"\"\n",
    "    pass\n",
    "\n",
    "\n",
    "def play_audio(audio_array):\n",
    "    \"\"\"\n",
    "    Generate audio player for <audio_array> using Ipython library\n",
    "    \"\"\"\n",
    "    pass"
   ]
  },
  {
   "cell_type": "markdown",
   "id": "spectacular-cornell",
   "metadata": {},
   "source": [
    "Are there any important observations about the mixed or isolated instrument tracks? What is the quality like, do you here all of the instruments clearly? Are there any differences between the audios of the individual instrument tracks?"
   ]
  },
  {
   "cell_type": "markdown",
   "id": "naked-currency",
   "metadata": {},
   "source": [
    "### Processing"
   ]
  },
  {
   "cell_type": "markdown",
   "id": "alive-lease",
   "metadata": {},
   "source": [
    "Are the isolated vocal tracks sufficiently isolated? Libraries like [`spleeter`](https://github.com/deezer/spleeter) can help separate singing sources from background instruments. Does it help here?"
   ]
  },
  {
   "cell_type": "code",
   "execution_count": 225,
   "id": "intellectual-earth",
   "metadata": {},
   "outputs": [],
   "source": [
    "def separate_voice(audio_path, isolated_audio_output_path):\n",
    "    \"\"\"\n",
    "    Apply spleeter source separation to input audio\n",
    "    \"\"\"\n",
    "    pass"
   ]
  },
  {
   "cell_type": "markdown",
   "id": "appropriate-forum",
   "metadata": {},
   "source": [
    "How does the quality compare? Does spleeter work effectively? Do we lose any important information?"
   ]
  },
  {
   "cell_type": "markdown",
   "id": "promotional-november",
   "metadata": {},
   "source": [
    "### Tagging Audio"
   ]
  },
  {
   "cell_type": "markdown",
   "id": "configured-genius",
   "metadata": {},
   "source": [
    "We want to tag our audios with whether or not a particular instrument is sounding. We can do this by identifying non-silent regions in the isolated tracks and tagging the mixed tracks with the instrument. The `librosa` library contains functionality for identifying silent regions in audio (`librosa.effects.split`)."
   ]
  },
  {
   "cell_type": "code",
   "execution_count": 226,
   "id": "attempted-burton",
   "metadata": {},
   "outputs": [],
   "source": [
    "# Load audios for each instrument track using previously defined functions"
   ]
  },
  {
   "cell_type": "code",
   "execution_count": 227,
   "id": "fewer-semester",
   "metadata": {},
   "outputs": [],
   "source": [
    "# Plot samples of audios (remember the relationship between elements and sampling rate)"
   ]
  },
  {
   "cell_type": "markdown",
   "id": "threaded-poetry",
   "metadata": {},
   "source": [
    "Define a function to identify silent regions in an audio array. Look at the documentation for `librosa.effects.split` ([here](https://librosa.org/doc/main/generated/librosa.effects.split.html)). \n",
    "\n",
    "**Hint** - The `top_db` parameter tunes the harshness of the cut (a higher value considers louder regions as \"silent\"). Experiment with this value and compare the results with the audio plots. Do they correspond to what you visualise/hear?\n",
    "\n",
    "**Remember** - `librosa.effects.split` returns NON-silent intervals."
   ]
  },
  {
   "cell_type": "code",
   "execution_count": 228,
   "id": "cardiac-webster",
   "metadata": {},
   "outputs": [],
   "source": [
    "def detect_silence(audio_array):\n",
    "    \"\"\"\n",
    "    Return array of 0 and 1 (is silent/is not silent) for input <audio_array>. Returned array should\n",
    "    be equal in length to input array\n",
    "    \"\"\"\n",
    "    return is_silent"
   ]
  },
  {
   "cell_type": "markdown",
   "id": "signed-parish",
   "metadata": {},
   "source": [
    "Do these regions correspond to what you hear when playing the audio with `play_audio` or what you see with `plot_waveform`?"
   ]
  },
  {
   "cell_type": "code",
   "execution_count": 153,
   "id": "thrown-ethernet",
   "metadata": {},
   "outputs": [],
   "source": [
    "mridangam = [int(x or y) for x,y in zip(y_mridangam_left, y_mridangam_right)]"
   ]
  },
  {
   "cell_type": "markdown",
   "id": "loose-venue",
   "metadata": {},
   "source": [
    "### Extracting Samples"
   ]
  },
  {
   "cell_type": "markdown",
   "id": "pending-court",
   "metadata": {},
   "source": [
    "We should now have all the tools necessary to load and annotated audio. We now want to extract small snippets of audio  from the mixed tracks across the dataset and annotate each of these snippets as either containing voice, mridangam, violin or none of the above (a single audio should be able to have more than one tag). \n",
    "\n",
    "It is important that we have examples for all combinations of tags (violin, voice, mridangam, none). Each sample should be of the same length (what should that length be? think about the two extreme cases of very very short and very long, what problems would arise in each of these cases).\n",
    "\n",
    "Each sample should have a unique identifier (index). The information relating to their tags should be stored in a metadata DataFrame where you can also find information about the performance.\n",
    "\n",
    "These should all be saved in individual audio files.\n",
    "\n",
    "Let us try with just on track to begin with..."
   ]
  },
  {
   "cell_type": "markdown",
   "id": "secure-perfume",
   "metadata": {},
   "source": [
    "1. For a certain track id, load all audio files (mix, violin, etc...)"
   ]
  },
  {
   "cell_type": "code",
   "execution_count": 237,
   "id": "smoking-provision",
   "metadata": {},
   "outputs": [],
   "source": [
    "# mix_array =\n",
    "# vocal_array =\n",
    "# violin_array =\n",
    "# vocal_array =\n",
    "# mridangam_left_array =\n",
    "# mridangam_right_array ="
   ]
  },
  {
   "cell_type": "markdown",
   "id": "accepting-confirmation",
   "metadata": {},
   "source": [
    "2. Create a silent/non-silent array using `detect_silence()` defined earlier. \n",
    "\n",
    "      **Remember**: The mridangam has two tracks corresponding to it, you must combine them to identify whether either is sounding"
   ]
  },
  {
   "cell_type": "code",
   "execution_count": null,
   "id": "administrative-spirit",
   "metadata": {},
   "outputs": [],
   "source": [
    "# violin_silence = \n",
    "# vocal_silence = \n",
    "# mridangam_silnce = "
   ]
  },
  {
   "cell_type": "markdown",
   "id": "thrown-russian",
   "metadata": {},
   "source": [
    "3. Split mixed audio into small chunks using [numpy array indexing](https://numpy.org/doc/stable/user/basics.indexing.html) (the size of these chunks should be informed by the literature)"
   ]
  },
  {
   "cell_type": "code",
   "execution_count": null,
   "id": "arctic-ireland",
   "metadata": {},
   "outputs": [],
   "source": []
  },
  {
   "cell_type": "markdown",
   "id": "continued-constant",
   "metadata": {},
   "source": [
    "4. Determine from your silent/non-silent arrays in Step 2 whether the chunk contains each instrument (voice, vocal, mridangam"
   ]
  },
  {
   "cell_type": "code",
   "execution_count": 238,
   "id": "opening-julian",
   "metadata": {},
   "outputs": [],
   "source": [
    "# Slice silence arrays identically to mix slice and determine yes/no does chunk contain instrument"
   ]
  },
  {
   "cell_type": "markdown",
   "id": "polyphonic-tumor",
   "metadata": {},
   "source": [
    "5. Save each audio with a unique index.\n",
    "\n",
    "    **Hint**: Audio arrays can be saved to file using the `soundfile` library:\n",
    "    `sf.write('<filename>.wav', <audio_array>, <sampling rate>)`\n",
    "    \n",
    "    **Remember**: Each audio chunk  needs to be assigned a unique index so as to be managed correctly later on. Feel free to use numbers, hashes or uuids"
   ]
  },
  {
   "cell_type": "code",
   "execution_count": null,
   "id": "banner-devices",
   "metadata": {},
   "outputs": [],
   "source": [
    "# store audio with soundfile"
   ]
  },
  {
   "cell_type": "markdown",
   "id": "rough-glasgow",
   "metadata": {},
   "source": [
    "6. Add row to metadata table containing relevant track information, index, and instrument annotations.\n",
    "\n",
    "    **Hint** - A `pandas` dataframe is a suitable place to store information relating to track and instrument annotations. You can create one using: \n",
    "\n",
    "    `import pandas as pd`\n",
    "\n",
    "    `df = pd.DataFrame(columns=<list of columns names>])`\n",
    "    \n",
    "    Add new rows using append:\n",
    "    \n",
    "    `df.append({dict of {column_name:value>, ignore_index=True)`\n",
    "    \n",
    "    And save using:\n",
    "    \n",
    "    `df.to_csv('<path.csv>', index=False)`\n",
    "    \n",
    "    **Remember** - This table should include the metadata relating to the track, the unique chunk index and a column indicating whether or not it includes each instrument \n",
    "    "
   ]
  },
  {
   "cell_type": "code",
   "execution_count": null,
   "id": "cooked-clear",
   "metadata": {},
   "outputs": [],
   "source": [
    "# metadata dataframe"
   ]
  },
  {
   "cell_type": "markdown",
   "id": "hungarian-yahoo",
   "metadata": {},
   "source": [
    "7. Repeat for many tracks and many chunks. Now you have written the individual code to do this for one track/chunk. Let's combine this and apply to a large number of tracks/chunks. Storing each with a unique index and a row in the metadata dataframe."
   ]
  },
  {
   "cell_type": "markdown",
   "id": "boolean-validation",
   "metadata": {},
   "source": [
    "### Load Dataset"
   ]
  },
  {
   "cell_type": "markdown",
   "id": "perfect-ocean",
   "metadata": {},
   "source": [
    "With our dataset created and saved in an intuitive and accessible format. Let's create some loaders to load the files and get metadata."
   ]
  },
  {
   "cell_type": "code",
   "execution_count": null,
   "id": "81dbad83",
   "metadata": {},
   "outputs": [],
   "source": [
    "def load_sample(index):\n",
    "    \"\"\"\n",
    "    Load sample with index, <index>\n",
    "    \"\"\"\n",
    "    return sample\n",
    "\n",
    "def get_metadata(index):\n",
    "    \"\"\"\n",
    "    Get metadata for sample with index, <index>\n",
    "    \"\"\"\n",
    "    return sample"
   ]
  },
  {
   "cell_type": "markdown",
   "id": "turkish-concert",
   "metadata": {},
   "source": [
    "Typically, when datasets are presented, they are accompanied by some stats detailing their size and constiuent parts. What stats can you tell us about our dataset? Think about: number of seconds, performers, performances, instruments, ragas, filesizes etc.... "
   ]
  },
  {
   "cell_type": "code",
   "execution_count": null,
   "id": "featured-opera",
   "metadata": {},
   "outputs": [],
   "source": [
    "# stats"
   ]
  },
  {
   "cell_type": "markdown",
   "id": "swiss-match",
   "metadata": {},
   "source": [
    "### Reproducible Code"
   ]
  },
  {
   "cell_type": "markdown",
   "id": "small-chicago",
   "metadata": {},
   "source": [
    "Jupyter notebooks are great for experimenting, especially when visualisation or audio playback is required. However they are not great for reproducibility or source control. Can you abstract the code created here to .py file(s) so that the code can be ran in future without having to load the HTML notebook?"
   ]
  }
 ],
 "metadata": {
  "kernelspec": {
   "display_name": "carnatic",
   "language": "python",
   "name": "carnatic"
  },
  "language_info": {
   "codemirror_mode": {
    "name": "ipython",
    "version": 3
   },
   "file_extension": ".py",
   "mimetype": "text/x-python",
   "name": "python",
   "nbconvert_exporter": "python",
   "pygments_lexer": "ipython3",
   "version": "3.7.9"
  }
 },
 "nbformat": 4,
 "nbformat_minor": 5
}
