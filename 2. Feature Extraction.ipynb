{
 "cells": [
  {
   "cell_type": "markdown",
   "id": "premier-merchandise",
   "metadata": {},
   "source": [
    "# 2. Feature Extraction"
   ]
  },
  {
   "cell_type": "markdown",
   "id": "pretty-award",
   "metadata": {},
   "source": [
    "In this notebook we will extract various audio features for a sample of audio. We will focus on the time domain features of:\n",
    "\n",
    "- Amplitude Envelope \n",
    "- Root-Mean-Squared Energy\n",
    "- Zero Crossing Rate\n",
    "\n",
    "And the frequency domain features of:\n",
    "\n",
    "- Band Energy Ratio\n",
    "- Spectral Centroid\n",
    "- Bandwidth\n",
    "- Mel Frequency Cepstral Coefficients\n",
    "\n",
    "Before beginning this notebook, you should have already create a dataset of audio samples from the Saraga Carnatic Dataset. If not, please review notebook **1. Dataset Creation**."
   ]
  },
  {
   "cell_type": "markdown",
   "id": "terminal-leonard",
   "metadata": {},
   "source": [
    "## 2.1 Load Samples"
   ]
  },
  {
   "cell_type": "markdown",
   "id": "amazing-fraction",
   "metadata": {},
   "source": [
    "As part of **1. Dataset Creations** you should have created some loaders to load audio samples and associated metadata. Import these loaders and load one sample to experiment with."
   ]
  },
  {
   "cell_type": "code",
   "execution_count": 1,
   "id": "neural-reaction",
   "metadata": {},
   "outputs": [],
   "source": [
    "# import dataset loaders"
   ]
  },
  {
   "cell_type": "code",
   "execution_count": 2,
   "id": "nearby-beach",
   "metadata": {},
   "outputs": [],
   "source": [
    "# load one individual sample"
   ]
  },
  {
   "cell_type": "markdown",
   "id": "therapeutic-delhi",
   "metadata": {},
   "source": [
    "Are you able to listen to this audio and plot the waveform using `plot_waveform()` function from **1. Dataset Creation**?"
   ]
  },
  {
   "cell_type": "code",
   "execution_count": 3,
   "id": "rough-morning",
   "metadata": {},
   "outputs": [],
   "source": [
    "# Listen to audio"
   ]
  },
  {
   "cell_type": "code",
   "execution_count": 4,
   "id": "traditional-estonia",
   "metadata": {},
   "outputs": [],
   "source": [
    "# plot waveform"
   ]
  },
  {
   "cell_type": "markdown",
   "id": "cardiovascular-drunk",
   "metadata": {},
   "source": [
    "## 2.1 Time Domain Features"
   ]
  },
  {
   "cell_type": "markdown",
   "id": "strong-central",
   "metadata": {},
   "source": [
    "Here we will extract the time domain features of:\n",
    "\n",
    "- Amplitude Envelope \n",
    "- Root-Mean-Squared Energy\n",
    "- Zero Crossing Rate\n",
    "\n",
    "We will work with the *time domain* representation of your audio (i.e. the amplitude values loaded by your loader)."
   ]
  },
  {
   "cell_type": "markdown",
   "id": "disabled-malaysia",
   "metadata": {},
   "source": [
    "### 2.1.1 Amplitude Envelope"
   ]
  },
  {
   "cell_type": "markdown",
   "id": "hybrid-faculty",
   "metadata": {},
   "source": [
    "The amplitude is computed by splitting the  audio into frames and taking the maximum amplitude value for each frame..."
   ]
  },
  {
   "cell_type": "markdown",
   "id": "stuffed-cornwall",
   "metadata": {},
   "source": [
    "![title](images/amplitude_envelope.png)"
   ]
  },
  {
   "cell_type": "markdown",
   "id": "divine-auditor",
   "metadata": {},
   "source": [
    "Try and split your audio into frames of length `w`. \n",
    "\n",
    "**Hint**: `numpy` indexing you to take windows of size `w` from an array using `np.array_split(array, w)`."
   ]
  },
  {
   "cell_type": "code",
   "execution_count": 5,
   "id": "synthetic-executive",
   "metadata": {},
   "outputs": [],
   "source": [
    "# Split audio array"
   ]
  },
  {
   "cell_type": "markdown",
   "id": "governing-sunglasses",
   "metadata": {},
   "source": [
    "Take the maximum value for each window using `np.max()`.\n",
    "\n",
    "**Hint** A list comprehension may be useful here: `[<f(x)> for x in <iterable>]` where `<iterable>` is some iterable object and `<f(x)>` is some functon to apply to each  element of that iterable."
   ]
  },
  {
   "cell_type": "code",
   "execution_count": 6,
   "id": "statewide-period",
   "metadata": {},
   "outputs": [],
   "source": [
    "# Get amplitude envelope by taking the max of the values of the split array"
   ]
  },
  {
   "cell_type": "markdown",
   "id": "advance-unemployment",
   "metadata": {},
   "source": [
    "Can you plot this envelope using `matplotlib.pyplot`. How does it compare with the original signal?"
   ]
  },
  {
   "cell_type": "markdown",
   "id": "fiscal-chicken",
   "metadata": {},
   "source": [
    "### 2.1.2 Root Mean Square Energy"
   ]
  },
  {
   "cell_type": "markdown",
   "id": "buried-winter",
   "metadata": {},
   "source": [
    "The RMS energy is computed using"
   ]
  },
  {
   "cell_type": "markdown",
   "id": "superior-prototype",
   "metadata": {},
   "source": [
    "![title](images/rms_energy.png)"
   ]
  },
  {
   "cell_type": "markdown",
   "id": "successful-recycling",
   "metadata": {},
   "source": [
    "The `librosa` libray has an implementation at `librosa.feature.rms`"
   ]
  },
  {
   "cell_type": "code",
   "execution_count": null,
   "id": "turned-treasurer",
   "metadata": {},
   "outputs": [],
   "source": [
    "# import librosa rms"
   ]
  },
  {
   "cell_type": "code",
   "execution_count": null,
   "id": "billion-independence",
   "metadata": {},
   "outputs": [],
   "source": [
    "# extact rms value"
   ]
  },
  {
   "cell_type": "markdown",
   "id": "religious-angola",
   "metadata": {},
   "source": [
    "### 2.1.3 Zero Crossing Rate"
   ]
  },
  {
   "cell_type": "markdown",
   "id": "composed-stadium",
   "metadata": {},
   "source": [
    "The zero crossing rate is the number of times the signal crosses the x axis"
   ]
  },
  {
   "cell_type": "markdown",
   "id": "civil-iceland",
   "metadata": {},
   "source": [
    "![title](images/zero_crossing_graph.png)"
   ]
  },
  {
   "cell_type": "markdown",
   "id": "studied-cargo",
   "metadata": {},
   "source": [
    "It is computed with the following equation"
   ]
  },
  {
   "cell_type": "markdown",
   "id": "christian-nomination",
   "metadata": {},
   "source": [
    "![title](images/zero_crossing_eq.png)"
   ]
  },
  {
   "cell_type": "markdown",
   "id": "signal-tokyo",
   "metadata": {},
   "source": [
    "The `librosa` library provides an implementaton at `librosa.feature.zero_crossing_rate`"
   ]
  },
  {
   "cell_type": "code",
   "execution_count": null,
   "id": "embedded-screening",
   "metadata": {},
   "outputs": [],
   "source": [
    "# import librosa zero_crossing_rate"
   ]
  },
  {
   "cell_type": "code",
   "execution_count": null,
   "id": "distinguished-sixth",
   "metadata": {},
   "outputs": [],
   "source": [
    "# compute ZCR"
   ]
  },
  {
   "cell_type": "markdown",
   "id": "comic-pulse",
   "metadata": {},
   "source": [
    "## 2.2 Frequency Domain Features"
   ]
  },
  {
   "cell_type": "markdown",
   "id": "quick-shirt",
   "metadata": {},
   "source": [
    "Here we will extract the frequency domain features of:\n",
    "\n",
    "- Band Energy Ratio\n",
    "- Spectral Centroid\n",
    "- Bandwidth\n",
    "- Mel Frequency Cepstral Coefficients\n",
    "\n",
    "We will work with the **frequency domain** representation of your audio (i.e. the frequency magnitude extracted from the fourier transform of your time domain signal).\n",
    "\n",
    "Almost all implementations of these feature extractors will compute the frequency domain spectrum for you."
   ]
  },
  {
   "cell_type": "markdown",
   "id": "adequate-argentina",
   "metadata": {},
   "source": [
    "### 2.2.1 Band Energy Ratio"
   ]
  },
  {
   "cell_type": "markdown",
   "id": "alert-doctrine",
   "metadata": {},
   "source": [
    "Band energy ratio is the ratio of energy between lower and higher frequency bands divided by some threshold, `F`."
   ]
  },
  {
   "cell_type": "markdown",
   "id": "rotary-march",
   "metadata": {},
   "source": [
    "![title](images/bre_spec.png)"
   ]
  },
  {
   "cell_type": "markdown",
   "id": "responsible-tattoo",
   "metadata": {},
   "source": [
    "![title](images/bre_eq.png)"
   ]
  },
  {
   "cell_type": "markdown",
   "id": "minus-hebrew",
   "metadata": {},
   "source": [
    "The `essentia` library provides an implementation for computing the BER at `essentia.standard.EnergyBandRatio`. Import it and extract for your signal."
   ]
  },
  {
   "cell_type": "code",
   "execution_count": null,
   "id": "vulnerable-fisher",
   "metadata": {},
   "outputs": [],
   "source": [
    "# import essentia"
   ]
  },
  {
   "cell_type": "code",
   "execution_count": null,
   "id": "final-library",
   "metadata": {},
   "outputs": [],
   "source": [
    "# compute BER"
   ]
  },
  {
   "cell_type": "markdown",
   "id": "exact-circle",
   "metadata": {},
   "source": [
    "### 2.2.2 Spectral Centroid"
   ]
  },
  {
   "cell_type": "markdown",
   "id": "disabled-pottery",
   "metadata": {},
   "source": [
    "The spectral centroid is a weighted mean of energy across all frequency bands. It is computed as:"
   ]
  },
  {
   "cell_type": "markdown",
   "id": "rubber-tracy",
   "metadata": {},
   "source": [
    "![title](images/spec_cent.png)"
   ]
  },
  {
   "cell_type": "markdown",
   "id": "detected-europe",
   "metadata": {},
   "source": [
    "The `librosa` libary provides an implementation at `librosa.feature.spectral_centroid`."
   ]
  },
  {
   "cell_type": "code",
   "execution_count": null,
   "id": "vietnamese-picture",
   "metadata": {},
   "outputs": [],
   "source": [
    "# import librosa implementation"
   ]
  },
  {
   "cell_type": "code",
   "execution_count": 9,
   "id": "essential-woman",
   "metadata": {},
   "outputs": [],
   "source": [
    "# compute centroid for your signal"
   ]
  },
  {
   "cell_type": "markdown",
   "id": "equivalent-ridge",
   "metadata": {},
   "source": [
    "### 2.2.3 Bandwidth"
   ]
  },
  {
   "cell_type": "markdown",
   "id": "forced-inquiry",
   "metadata": {},
   "source": [
    "The bandwidth captures the variance around spectral centroid."
   ]
  },
  {
   "cell_type": "markdown",
   "id": "expired-stamp",
   "metadata": {},
   "source": [
    "![title](images/bandwidth.png)"
   ]
  },
  {
   "cell_type": "markdown",
   "id": "virtual-horizontal",
   "metadata": {},
   "source": [
    "The `librosa` libary provides an implementation at `librosa.feature.spectral_bandwidth`."
   ]
  },
  {
   "cell_type": "code",
   "execution_count": null,
   "id": "pressed-juvenile",
   "metadata": {},
   "outputs": [],
   "source": [
    "# import librosa implementation"
   ]
  },
  {
   "cell_type": "code",
   "execution_count": null,
   "id": "biblical-startup",
   "metadata": {},
   "outputs": [],
   "source": [
    "# compute bandwidth for your signal"
   ]
  },
  {
   "cell_type": "markdown",
   "id": "authentic-senior",
   "metadata": {},
   "source": [
    "### 2.2.4 Mel Frequency Cepstral Coefficients"
   ]
  },
  {
   "cell_type": "markdown",
   "id": "inclusive-present",
   "metadata": {},
   "source": [
    "MFCC maps frequency magnitudes to the more perceptually relevant Mel frequencies. The mapping between frequency and Mel frequency is as follows."
   ]
  },
  {
   "cell_type": "markdown",
   "id": "incredible-former",
   "metadata": {},
   "source": [
    "![title](images/mel_freq.png)"
   ]
  },
  {
   "cell_type": "markdown",
   "id": "suited-faculty",
   "metadata": {},
   "source": [
    "This mapping is not a simple conversion. More information on exactly how this is achieved can be found [here](https://www.youtube.com/watch?v=9GHCiiDLHQ4)"
   ]
  },
  {
   "cell_type": "markdown",
   "id": "future-fusion",
   "metadata": {},
   "source": [
    "The `librosa` libary provides an implementation at `librosa.feature.mfcc`."
   ]
  },
  {
   "cell_type": "code",
   "execution_count": null,
   "id": "national-monitor",
   "metadata": {},
   "outputs": [],
   "source": [
    "# import librosa implementation"
   ]
  },
  {
   "cell_type": "code",
   "execution_count": null,
   "id": "challenging-mailman",
   "metadata": {},
   "outputs": [],
   "source": [
    "# compute MFCC coefficients for your signal"
   ]
  },
  {
   "cell_type": "markdown",
   "id": "czech-apple",
   "metadata": {},
   "source": [
    "## 2.3 Extracting features across the dataset"
   ]
  },
  {
   "cell_type": "markdown",
   "id": "settled-majority",
   "metadata": {},
   "source": [
    "Now that you are able to extract features for one individual sample. Let's extract this to the entire dataset. The metadata file that you created in the **1. Dataset Creation** notebook should include all indices and filepaths of each sample.\n",
    "\n",
    "**Hint**: The `pandas` library loads a csv to a pandas dataframe with `pandas.read_csv`"
   ]
  },
  {
   "cell_type": "code",
   "execution_count": null,
   "id": "nuclear-objective",
   "metadata": {},
   "outputs": [],
   "source": [
    "# Load metadata"
   ]
  },
  {
   "cell_type": "markdown",
   "id": "czech-league",
   "metadata": {},
   "source": [
    "Iterate through the rows in this metadata file, extracting filepath and index. For each filepath, load the audio sample and apply the feature extractors defined above. Make sure to store these features in a dataframe with columns=`index`,`feature_name`.\n",
    "\n",
    "**Hint**: `.iterrows()` allows dataframe row iteration on pandas dataframe\n",
    "\n",
    "**Hint**: `pandas.DataFrame` initialises a new dataframe\n",
    "\n",
    "**Hint**: `df.append` appends new rows to a pandas dataframe"
   ]
  },
  {
   "cell_type": "code",
   "execution_count": 11,
   "id": "efficient-reservoir",
   "metadata": {},
   "outputs": [],
   "source": [
    "# iterate through df\n",
    "# extract features\n",
    "# store in new features dataframe"
   ]
  },
  {
   "cell_type": "markdown",
   "id": "congressional-tracy",
   "metadata": {},
   "source": [
    "Store this features dataframe alongside the original dataset\n",
    "\n",
    "**Hint**: `df.to_csv` writes a dataframe to csv file"
   ]
  },
  {
   "cell_type": "code",
   "execution_count": null,
   "id": "needed-worst",
   "metadata": {},
   "outputs": [],
   "source": [
    "# write dataframe"
   ]
  }
 ],
 "metadata": {
  "kernelspec": {
   "display_name": "carnatic",
   "language": "python",
   "name": "carnatic"
  },
  "language_info": {
   "codemirror_mode": {
    "name": "ipython",
    "version": 3
   },
   "file_extension": ".py",
   "mimetype": "text/x-python",
   "name": "python",
   "nbconvert_exporter": "python",
   "pygments_lexer": "ipython3",
   "version": "3.7.9"
  }
 },
 "nbformat": 4,
 "nbformat_minor": 5
}
